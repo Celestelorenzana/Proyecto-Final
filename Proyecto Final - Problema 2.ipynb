{
 "cells": [
  {
   "cell_type": "markdown",
   "metadata": {},
   "source": [
    "## Cargamos Librerias"
   ]
  },
  {
   "cell_type": "code",
   "execution_count": 35,
   "metadata": {},
   "outputs": [],
   "source": [
    "from tensorflow.keras.preprocessing.image import ImageDataGenerator, load_img, array_to_img, img_to_array\n",
    "from tensorflow.keras.models import Sequential\n",
    "from tensorflow.keras.layers import Dense\n",
    "from tensorflow.keras.layers import Conv2D\n",
    "from tensorflow.keras.layers import MaxPool2D\n",
    "from tensorflow.keras.layers import Flatten"
   ]
  },
  {
   "cell_type": "markdown",
   "metadata": {},
   "source": [
    "## Cargamos nuestra data de entrenamiento"
   ]
  },
  {
   "cell_type": "code",
   "execution_count": 57,
   "metadata": {},
   "outputs": [
    {
     "name": "stdout",
     "output_type": "stream",
     "text": [
      "Found 2902 images belonging to 6 classes.\n"
     ]
    }
   ],
   "source": [
    "data_train_path = 'Train_set'\n",
    "\n",
    "# Variaciones en las imágenes.\n",
    "\n",
    "train_data_generator = ImageDataGenerator(\n",
    "    rescale=1/255.,\n",
    "    zoom_range=0.2,\n",
    "    horizontal_flip=True,\n",
    "    vertical_flip=True,\n",
    "    shear_range=0.2\n",
    ")\n",
    "\n",
    "# Cargamos y reconficamos las imágenes de entrada para clasificación binaria.\n",
    "\n",
    "train_data_flow = train_data_generator.flow_from_directory(\n",
    "    data_train_path,\n",
    "    target_size = (64, 64),\n",
    "    batch_size = 32, \n",
    "    class_mode = 'binary' \n",
    ")"
   ]
  },
  {
   "cell_type": "markdown",
   "metadata": {},
   "source": [
    "## Cargamos nuestra data para Prueba"
   ]
  },
  {
   "cell_type": "code",
   "execution_count": 58,
   "metadata": {},
   "outputs": [
    {
     "name": "stdout",
     "output_type": "stream",
     "text": [
      "Found 768 images belonging to 6 classes.\n"
     ]
    }
   ],
   "source": [
    "data_test_path = 'Test_set'\n",
    "\n",
    "test_data_generator = ImageDataGenerator(\n",
    "    rescale=1/255.\n",
    ")\n",
    "\n",
    "test_data_flow = test_data_generator.flow_from_directory(\n",
    "    data_test_path,\n",
    "    target_size = (64, 64),\n",
    "    batch_size = 32, \n",
    "    class_mode = 'binary'\n",
    ")"
   ]
  },
  {
   "cell_type": "markdown",
   "metadata": {},
   "source": [
    "## Creación de la Red Neuronal"
   ]
  },
  {
   "cell_type": "code",
   "execution_count": 59,
   "metadata": {},
   "outputs": [
    {
     "name": "stderr",
     "output_type": "stream",
     "text": [
      "c:\\Users\\Johnatan Ramirez\\anaconda3\\Lib\\site-packages\\keras\\src\\layers\\convolutional\\base_conv.py:107: UserWarning: Do not pass an `input_shape`/`input_dim` argument to a layer. When using Sequential models, prefer using an `Input(shape)` object as the first layer in the model instead.\n",
      "  super().__init__(activity_regularizer=activity_regularizer, **kwargs)\n"
     ]
    }
   ],
   "source": [
    "cnn_v1 = Sequential()\n",
    "cnn_v1.add(Conv2D(filters=64, kernel_size=(3,3), activation='relu', input_shape=(64, 64, 3)))\n",
    "cnn_v1.add(MaxPool2D(pool_size=(2,2)))\n",
    "cnn_v1.add(Flatten())\n",
    "cnn_v1.add(Dense(units=128, activation='relu'))\n",
    "cnn_v1.add(Dense(units=1, activation='sigmoid'))"
   ]
  },
  {
   "cell_type": "code",
   "execution_count": 60,
   "metadata": {},
   "outputs": [],
   "source": [
    "cnn_v1.compile(optimizer='adam', loss='binary_crossentropy', metrics=['accuracy'])"
   ]
  },
  {
   "cell_type": "markdown",
   "metadata": {},
   "source": [
    "## Epocas"
   ]
  },
  {
   "cell_type": "code",
   "execution_count": 63,
   "metadata": {},
   "outputs": [
    {
     "name": "stdout",
     "output_type": "stream",
     "text": [
      "Epoch 1/8\n",
      "\u001b[1m20/20\u001b[0m \u001b[32m━━━━━━━━━━━━━━━━━━━━\u001b[0m\u001b[37m\u001b[0m \u001b[1m11s\u001b[0m 515ms/step - accuracy: 0.1722 - loss: -16975546.0000 - val_accuracy: 0.1823 - val_loss: -21015426.0000\n",
      "Epoch 2/8\n",
      "\u001b[1m20/20\u001b[0m \u001b[32m━━━━━━━━━━━━━━━━━━━━\u001b[0m\u001b[37m\u001b[0m \u001b[1m8s\u001b[0m 405ms/step - accuracy: 0.1499 - loss: -20570502.0000 - val_accuracy: 0.1823 - val_loss: -25217296.0000\n",
      "Epoch 3/8\n",
      "\u001b[1m20/20\u001b[0m \u001b[32m━━━━━━━━━━━━━━━━━━━━\u001b[0m\u001b[37m\u001b[0m \u001b[1m8s\u001b[0m 435ms/step - accuracy: 0.1721 - loss: -24765778.0000 - val_accuracy: 0.1823 - val_loss: -29958210.0000\n",
      "Epoch 4/8\n",
      "\u001b[1m20/20\u001b[0m \u001b[32m━━━━━━━━━━━━━━━━━━━━\u001b[0m\u001b[37m\u001b[0m \u001b[1m7s\u001b[0m 377ms/step - accuracy: 0.1626 - loss: -28940192.0000 - val_accuracy: 0.1823 - val_loss: -35293204.0000\n",
      "Epoch 5/8\n",
      "\u001b[1m20/20\u001b[0m \u001b[32m━━━━━━━━━━━━━━━━━━━━\u001b[0m\u001b[37m\u001b[0m \u001b[1m4s\u001b[0m 232ms/step - accuracy: 0.1452 - loss: -36588572.0000 - val_accuracy: 0.1823 - val_loss: -38545356.0000\n",
      "Epoch 6/8\n",
      "\u001b[1m20/20\u001b[0m \u001b[32m━━━━━━━━━━━━━━━━━━━━\u001b[0m\u001b[37m\u001b[0m \u001b[1m12s\u001b[0m 474ms/step - accuracy: 0.2002 - loss: -37279832.0000 - val_accuracy: 0.1823 - val_loss: -44834484.0000\n",
      "Epoch 7/8\n",
      "\u001b[1m20/20\u001b[0m \u001b[32m━━━━━━━━━━━━━━━━━━━━\u001b[0m\u001b[37m\u001b[0m \u001b[1m8s\u001b[0m 424ms/step - accuracy: 0.1618 - loss: -45031740.0000 - val_accuracy: 0.1823 - val_loss: -52002276.0000\n",
      "Epoch 8/8\n",
      "\u001b[1m20/20\u001b[0m \u001b[32m━━━━━━━━━━━━━━━━━━━━\u001b[0m\u001b[37m\u001b[0m \u001b[1m8s\u001b[0m 435ms/step - accuracy: 0.1762 - loss: -44169956.0000 - val_accuracy: 0.1823 - val_loss: -59207356.0000\n"
     ]
    },
    {
     "data": {
      "text/plain": [
       "<keras.src.callbacks.history.History at 0x1f60bd8ec90>"
      ]
     },
     "execution_count": 63,
     "metadata": {},
     "output_type": "execute_result"
    }
   ],
   "source": [
    "cnn_v1.fit(train_data_flow,\n",
    "           steps_per_epoch=20,\n",
    "           epochs=8,\n",
    "           validation_steps=100,\n",
    "           validation_data=test_data_flow)"
   ]
  },
  {
   "cell_type": "markdown",
   "metadata": {},
   "source": [
    "# Evaluamos el Modelo en nuestra data de prueba"
   ]
  },
  {
   "cell_type": "code",
   "execution_count": 64,
   "metadata": {},
   "outputs": [
    {
     "name": "stdout",
     "output_type": "stream",
     "text": [
      "\u001b[1m100/100\u001b[0m \u001b[32m━━━━━━━━━━━━━━━━━━━━\u001b[0m\u001b[37m\u001b[0m \u001b[1m4s\u001b[0m 34ms/step - accuracy: 0.1775 - loss: -58743552.0000  \n",
      "Pérdida en el conjunto de prueba: -59207356.0\n",
      "Precisión en el conjunto de prueba: 0.1822916716337204\n"
     ]
    }
   ],
   "source": [
    "# Evaluar el modelo en el conjunto de prueba\n",
    "test_loss, test_accuracy = cnn_v1.evaluate(test_data_flow, steps=100)\n",
    "\n",
    "print(f'Pérdida en el conjunto de prueba: {test_loss}')\n",
    "print(f'Precisión en el conjunto de prueba: {test_accuracy}')"
   ]
  },
  {
   "cell_type": "markdown",
   "metadata": {},
   "source": [
    "## Hacemos predicciones sobre nuestra data de prueba"
   ]
  },
  {
   "cell_type": "code",
   "execution_count": 65,
   "metadata": {},
   "outputs": [],
   "source": [
    "import numpy as np"
   ]
  },
  {
   "cell_type": "code",
   "execution_count": 66,
   "metadata": {},
   "outputs": [
    {
     "name": "stdout",
     "output_type": "stream",
     "text": [
      "\u001b[1m24/24\u001b[0m \u001b[32m━━━━━━━━━━━━━━━━━━━━\u001b[0m\u001b[37m\u001b[0m \u001b[1m4s\u001b[0m 146ms/step\n",
      "[[1]\n",
      " [1]\n",
      " [1]\n",
      " [1]\n",
      " [1]\n",
      " [1]\n",
      " [1]\n",
      " [1]\n",
      " [1]\n",
      " [1]\n",
      " [1]\n",
      " [1]\n",
      " [1]\n",
      " [1]\n",
      " [1]\n",
      " [1]\n",
      " [1]\n",
      " [1]\n",
      " [1]\n",
      " [1]]\n"
     ]
    }
   ],
   "source": [
    "predicciones = cnn_v1.predict(test_data_flow, steps=len(test_data_flow))\n",
    "\n",
    "# Convertimo las predicciones a 0 y 1\n",
    "predicciones_binarias = np.where(predicciones > 0.5, 1, 0)\n",
    "\n",
    "# Mostramos las primeras 20 predicciones\n",
    "print(predicciones_binarias[:20])"
   ]
  },
  {
   "cell_type": "markdown",
   "metadata": {},
   "source": [
    "# Metricas Adicionales de Evaluación"
   ]
  },
  {
   "cell_type": "code",
   "execution_count": 67,
   "metadata": {},
   "outputs": [
    {
     "name": "stdout",
     "output_type": "stream",
     "text": [
      "              precision    recall  f1-score   support\n",
      "\n",
      "           0       0.00      0.00      0.00       128\n",
      "           1       0.18      1.00      0.31       140\n",
      "           2       0.00      0.00      0.00       124\n",
      "           3       0.00      0.00      0.00       125\n",
      "           4       0.00      0.00      0.00       131\n",
      "           5       0.00      0.00      0.00       120\n",
      "\n",
      "    accuracy                           0.18       768\n",
      "   macro avg       0.03      0.17      0.05       768\n",
      "weighted avg       0.03      0.18      0.06       768\n",
      "\n",
      "[[  0 128   0   0   0   0]\n",
      " [  0 140   0   0   0   0]\n",
      " [  0 124   0   0   0   0]\n",
      " [  0 125   0   0   0   0]\n",
      " [  0 131   0   0   0   0]\n",
      " [  0 120   0   0   0   0]]\n"
     ]
    },
    {
     "name": "stderr",
     "output_type": "stream",
     "text": [
      "c:\\Users\\Johnatan Ramirez\\anaconda3\\Lib\\site-packages\\sklearn\\metrics\\_classification.py:1469: UndefinedMetricWarning: Precision and F-score are ill-defined and being set to 0.0 in labels with no predicted samples. Use `zero_division` parameter to control this behavior.\n",
      "  _warn_prf(average, modifier, msg_start, len(result))\n",
      "c:\\Users\\Johnatan Ramirez\\anaconda3\\Lib\\site-packages\\sklearn\\metrics\\_classification.py:1469: UndefinedMetricWarning: Precision and F-score are ill-defined and being set to 0.0 in labels with no predicted samples. Use `zero_division` parameter to control this behavior.\n",
      "  _warn_prf(average, modifier, msg_start, len(result))\n",
      "c:\\Users\\Johnatan Ramirez\\anaconda3\\Lib\\site-packages\\sklearn\\metrics\\_classification.py:1469: UndefinedMetricWarning: Precision and F-score are ill-defined and being set to 0.0 in labels with no predicted samples. Use `zero_division` parameter to control this behavior.\n",
      "  _warn_prf(average, modifier, msg_start, len(result))\n"
     ]
    }
   ],
   "source": [
    "from sklearn.metrics import classification_report, confusion_matrix\n",
    "\n",
    "etiquetas_reales = test_data_flow.classes\n",
    "\n",
    "# Generamos reporte de clasificación\n",
    "print(classification_report(etiquetas_reales, predicciones_binarias))\n",
    "\n",
    "# Imprimimos la matriz de confusión\n",
    "print(confusion_matrix(etiquetas_reales, predicciones_binarias))"
   ]
  },
  {
   "cell_type": "markdown",
   "metadata": {},
   "source": [
    "# Validamos una imagen"
   ]
  },
  {
   "cell_type": "code",
   "execution_count": 79,
   "metadata": {},
   "outputs": [
    {
     "name": "stdout",
     "output_type": "stream",
     "text": [
      "\u001b[1m1/1\u001b[0m \u001b[32m━━━━━━━━━━━━━━━━━━━━\u001b[0m\u001b[37m\u001b[0m \u001b[1m0s\u001b[0m 42ms/step\n",
      "Es la clase 1 (por ejemplo, Manzana)\n"
     ]
    }
   ],
   "source": [
    "from tensorflow.keras.preprocessing.image import load_img, img_to_array\n",
    "import numpy as np\n",
    "\n",
    "# Cargar la imagen, asegurándonos de redimensionarla a 64x64 (igual que en el entrenamiento)\n",
    "img_path = 'freshOrange (256).jpg'  # Ruta de la imagen que quieres predecir\n",
    "img = load_img(img_path, target_size=(64, 64))\n",
    "\n",
    "img_array = img_to_array(img)\n",
    "img_array = img_array / 255.0\n",
    "\n",
    "# Agregar una dimensión extra para representar el batch (ya que el modelo espera un batch)\n",
    "img_array = np.expand_dims(img_array, axis=0)\n",
    "\n",
    "# Realizar la predicción\n",
    "prediccion = cnn_v1.predict(img_array)\n",
    "\n",
    "# Mostrar la predicción\n",
    "if prediccion > 0.5:\n",
    "    print(\"Es la clase 1 (por ejemplo, Manzana)\")\n",
    "else:\n",
    "    print(\"Es la clase 0 (por ejemplo, Naranja)\")"
   ]
  }
 ],
 "metadata": {
  "kernelspec": {
   "display_name": "base",
   "language": "python",
   "name": "python3"
  },
  "language_info": {
   "codemirror_mode": {
    "name": "ipython",
    "version": 3
   },
   "file_extension": ".py",
   "mimetype": "text/x-python",
   "name": "python",
   "nbconvert_exporter": "python",
   "pygments_lexer": "ipython3",
   "version": "3.11.5"
  }
 },
 "nbformat": 4,
 "nbformat_minor": 2
}
